{
 "cells": [
  {
   "cell_type": "code",
   "execution_count": null,
   "id": "3ea48799",
   "metadata": {
    "vscode": {
     "languageId": "plaintext"
    }
   },
   "outputs": [],
   "source": [
    "import numpy as np\n",
    "from scipy import stats\n",
    "import matplotlib.pyplot as plt\n",
    "import seaborn as sns"
   ]
  },
  {
   "cell_type": "markdown",
   "id": "3fd884ba",
   "metadata": {},
   "source": [
    "# ### 1. Medidas de Tendência Central\n",
    "# Calcule a média, mediana e moda do conjunto de dados: [2, 3, 3, 5, 7, 10, 10, 10, 12]"
   ]
  },
  {
   "cell_type": "code",
   "execution_count": null,
   "id": "e216667e",
   "metadata": {
    "vscode": {
     "languageId": "plaintext"
    }
   },
   "outputs": [],
   "source": [
    "dados1 = [2, 3, 3, 5, 7, 10, 10, 10, 12]\n",
    "\n",
    "media = np.mean(dados1)\n",
    "mediana = np.median(dados1)\n",
    "moda = stats.mode(dados1)\n",
    "\n",
    "print(f\"Média: {media:.2f}\")\n",
    "print(f\"Mediana: {mediana}\")\n",
    "print(f\"Moda: {moda.mode[0]} (ocorre {moda.count[0]} vezes)\")"
   ]
  },
  {
   "cell_type": "markdown",
   "id": "62d5db81",
   "metadata": {},
   "source": [
    "# ### 2. Variância e Desvio Padrão\n",
    "# Encontre a variância e o desvio padrão dos dados: [4, 8, 6, 5, 3, 7, 9, 6]"
   ]
  },
  {
   "cell_type": "code",
   "execution_count": null,
   "id": "743ec769",
   "metadata": {
    "vscode": {
     "languageId": "plaintext"
    }
   },
   "outputs": [],
   "source": [
    "dados2 = [4, 8, 6, 5, 3, 7, 9, 6]\n",
    "\n",
    "variancia = np.var(dados2, ddof=1)  # ddof=1 para amostra (n-1)\n",
    "desvio_padrao = np.std(dados2, ddof=1)\n",
    "\n",
    "print(f\"Variância: {variancia:.2f}\")\n",
    "print(f\"Desvio Padrão: {desvio_padrao:.2f}\")"
   ]
  },
  {
   "cell_type": "markdown",
   "id": "b4b93f9b",
   "metadata": {},
   "source": [
    "# ### 3. Amplitude\n",
    "# Determine a amplitude do conjunto [15, 22, 8, 29, 12]"
   ]
  },
  {
   "cell_type": "code",
   "execution_count": null,
   "id": "a2fc7e3b",
   "metadata": {
    "vscode": {
     "languageId": "plaintext"
    }
   },
   "outputs": [],
   "source": [
    "dados3 = [15, 22, 8, 29, 12]\n",
    "\n",
    "amplitude = max(dados3) - min(dados3)\n",
    "print(f\"Amplitude: {amplitude}\")"
   ]
  },
  {
   "cell_type": "markdown",
   "id": "94a645dc",
   "metadata": {},
   "source": [
    "# ### 4. Probabilidade em Distribuição Normal\n",
    "# Uma amostra segue distribuição normal com μ=50 e σ=5. Qual a probabilidade de um valor estar entre 45 e 55?"
   ]
  },
  {
   "cell_type": "code",
   "execution_count": null,
   "id": "d4884c6a",
   "metadata": {
    "vscode": {
     "languageId": "plaintext"
    }
   },
   "outputs": [],
   "source": [
    "mu, sigma = 50, 5\n",
    "prob = stats.norm.cdf(55, mu, sigma) - stats.norm.cdf(45, mu, sigma)\n",
    "print(f\"Probabilidade entre 45 e 55: {prob:.4f} ou {prob*100:.2f}%\")"
   ]
  },
  {
   "cell_type": "markdown",
   "id": "ff0f9717",
   "metadata": {},
   "source": [
    "# ### 5. Distribuição Binomial\n",
    "# Qual é a probabilidade de obter exatamente 3 sucessos em 5 tentativas com probabilidade de sucesso de 0.6 em cada tentativa?"
   ]
  },
  {
   "cell_type": "code",
   "execution_count": null,
   "id": "710fde56",
   "metadata": {
    "vscode": {
     "languageId": "plaintext"
    }
   },
   "outputs": [],
   "source": [
    "n, p, k = 5, 0.6, 3\n",
    "prob_binom = stats.binom.pmf(k, n, p)\n",
    "print(f\"Probabilidade de exatamente 3 sucessos: {prob_binom:.4f} ou {prob_binom*100:.2f}%\")"
   ]
  },
  {
   "cell_type": "markdown",
   "id": "b31d7ff6",
   "metadata": {},
   "source": [
    "# ### 6. Distribuição de Poisson\n",
    "# Modele a chegada de clientes em um banco usando uma distribuição de Poisson com λ=4 clientes por minuto."
   ]
  },
  {
   "cell_type": "code",
   "execution_count": null,
   "id": "1a6ddc47",
   "metadata": {
    "vscode": {
     "languageId": "plaintext"
    }
   },
   "outputs": [],
   "source": [
    "lambda_poisson = 4\n",
    "poisson_dist = stats.poisson(lambda_poisson)\n",
    "\n",
    "for x in range(0, 11):\n",
    "    print(f\"P(X={x}) = {poisson_dist.pmf(x):.4f}\")"
   ]
  },
  {
   "cell_type": "markdown",
   "id": "b28d2cc9",
   "metadata": {},
   "source": [
    "# ### 7. Distribuição Exponencial\n",
    "# Determine o tempo esperado até o próximo evento em uma distribuição exponencial com λ=2."
   ]
  },
  {
   "cell_type": "code",
   "execution_count": null,
   "id": "60e05a94",
   "metadata": {
    "vscode": {
     "languageId": "plaintext"
    }
   },
   "outputs": [],
   "source": [
    "lambda_exp = 2\n",
    "tempo_esperado = 1/lambda_exp\n",
    "print(f\"Tempo esperado até o próximo evento: {tempo_esperado} unidades de tempo\")"
   ]
  },
  {
   "cell_type": "markdown",
   "id": "c9fec796",
   "metadata": {},
   "source": [
    "# ### 8. Simulação de Dados Normais\n",
    "# Simule um conjunto de 100 amostras de uma distribuição normal com μ=10 e σ=2."
   ]
  },
  {
   "cell_type": "code",
   "execution_count": null,
   "id": "fc820ef4",
   "metadata": {
    "vscode": {
     "languageId": "plaintext"
    }
   },
   "outputs": [],
   "source": [
    "mu_sim, sigma_sim = 10, 2\n",
    "amostras = np.random.normal(mu_sim, sigma_sim, 100)\n",
    "\n",
    "plt.figure(figsize=(10, 5))\n",
    "sns.histplot(amostras, kde=True)\n",
    "plt.title(\"Distribuição das Amostras Simuladas\")\n",
    "plt.xlabel(\"Valores\")\n",
    "plt.ylabel(\"Frequência\")\n",
    "plt.show()"
   ]
  },
  {
   "cell_type": "markdown",
   "id": "de5a2a82",
   "metadata": {},
   "source": [
    "# ### 9. Eventos Raros\n",
    "# Calcule a probabilidade de um evento raro ocorrer pelo menos uma vez em 10 minutos, se ocorre a uma taxa de 0.1 por minuto."
   ]
  },
  {
   "cell_type": "code",
   "execution_count": null,
   "id": "d0e28ebf",
   "metadata": {
    "vscode": {
     "languageId": "plaintext"
    }
   },
   "outputs": [],
   "source": [
    "lambda_rare = 0.1 * 10  # Taxa para 10 minutos\n",
    "prob_pelo_menos_um = 1 - stats.poisson.pmf(0, lambda_rare)\n",
    "print(f\"Probabilidade de pelo menos um evento em 10 minutos: {prob_pelo_menos_um:.4f}\")"
   ]
  },
  {
   "cell_type": "markdown",
   "id": "fd7872de",
   "metadata": {},
   "source": [
    "# ### 10. Interpretação do Desvio Padrão\n",
    "# O desvio padrão nos salários de uma empresa mede a dispersão dos salários em relação à média. \n",
    "# Um desvio padrão alto indica que os salários estão mais espalhados, enquanto um baixo indica que estão mais concentrados em torno da média.\n",
    "\n",
    "# ### 11. Distribuição Binomial e Moeda\n",
    "# A distribuição binomial modela o lançamento de uma moeda pois:\n",
    "# - Cada lançamento tem dois resultados possíveis (cara ou coroa)\n",
    "# - Probabilidade constante (p para sucesso, 1-p para fracasso)\n",
    "# - Lançamentos independentes\n",
    "\n",
    "# ### 12. Diferença Normal vs Binomial\n",
    "# - Binomial: discreta, contagem de sucessos em n tentativas\n",
    "# - Normal: contínua, simétrica, para medições\n",
    "\n",
    "# ### 13. Quando usar Poisson\n",
    "# A distribuição de Poisson é apropriada para:\n",
    "# - Contagem de eventos raros em intervalo fixo\n",
    "# - Quando eventos são independentes\n",
    "# - Exemplos: chamadas em call center, acidentes por dia\n",
    "\n",
    "# ### 14. Relação Poisson-Exponencial\n",
    "# - Poisson modela contagem de eventos por unidade de tempo\n",
    "# - Exponencial modela tempo entre eventos\n",
    "# - Se eventos seguem Poisson(λ), tempos entre eventos seguem Exponencial(λ)\n",
    "\n",
    "# ### 15. Efeito do Aumento da Variância\n",
    "# Em uma normal, aumentar a variância:\n",
    "# - Torna a curva mais \"achatada\"\n",
    "# - Aumenta a dispersão dos dados\n",
    "# - Valores extremos se tornam mais prováveis\n",
    "\n",
    "# ### 16. Mediana vs Média\n",
    "# A mediana pode ser mais representativa quando:\n",
    "# - Distribuição é assimétrica\n",
    "# - Há outliers que distorcem a média\n",
    "# - Exemplo: salários onde poucos ganham muito mais\n",
    "\n",
    "# ### 17. Valor-p\n",
    "# O valor-p é a probabilidade de obter resultados pelo menos tão extremos quanto os observados, assumindo que a hipótese nula é verdadeira. \n",
    "# Um valor-p baixo (<0.05) sugere evidência contra a hipótese nula.\n",
    "\n",
    "# ### 18. Interpretação de Histograma Normal\n",
    "# Um histograma de distribuição normal deve mostrar:\n",
    "# - Forma de sino simétrica\n",
    "# - Maior frequência em torno da média\n",
    "# - Frequências decrescendo igualmente em ambas as direções\n",
    "\n",
    "# ### 19. Probabilidade de ao Menos um Sucesso\n",
    "# Calcule a probabilidade de obter ao menos um sucesso em 4 tentativas com p=0.2"
   ]
  },
  {
   "cell_type": "code",
   "execution_count": null,
   "id": "08594799",
   "metadata": {
    "vscode": {
     "languageId": "plaintext"
    }
   },
   "outputs": [],
   "source": [
    "n_tent, p_succ = 4, 0.2\n",
    "prob_ao_menos_um = 1 - (1 - p_succ)**n_tent\n",
    "print(f\"Probabilidade de ao menos um sucesso: {prob_ao_menos_um:.4f}\")"
   ]
  },
  {
   "cell_type": "markdown",
   "id": "6d37901a",
   "metadata": {},
   "source": [
    "# ### 20. Função Cumulativa Exponencial\n",
    "# A CDF da distribuição exponencial é:\n",
    "# F(x; λ) = 1 - e^(-λx) para x ≥ 0"
   ]
  },
  {
   "cell_type": "code",
   "execution_count": null,
   "id": "9b0ba8df",
   "metadata": {
    "vscode": {
     "languageId": "plaintext"
    }
   },
   "outputs": [],
   "source": [
    "x = np.linspace(0, 5, 100)\n",
    "lambda_cdf = 1\n",
    "y = 1 - np.exp(-lambda_cdf * x)\n",
    "\n",
    "plt.figure(figsize=(8, 4))\n",
    "plt.plot(x, y)\n",
    "plt.title(\"Função Cumulativa da Distribuição Exponencial (λ=1)\")\n",
    "plt.xlabel(\"x\")\n",
    "plt.ylabel(\"F(x)\")\n",
    "plt.grid(True)\n",
    "plt.show()"
   ]
  }
 ],
 "metadata": {
  "language_info": {
   "name": "python"
  }
 },
 "nbformat": 4,
 "nbformat_minor": 5
}
